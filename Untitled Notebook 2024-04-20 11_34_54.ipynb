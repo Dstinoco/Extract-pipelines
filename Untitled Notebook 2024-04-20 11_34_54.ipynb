{
 "cells": [
  {
   "cell_type": "code",
   "execution_count": null,
   "metadata": {
    "application/vnd.databricks.v1+cell": {
     "cellMetadata": {
      "byteLimit": 2048000,
      "rowLimit": 10000
     },
     "inputWidgets": {},
     "nuid": "96ebb43a-69c9-430d-803f-af62c17b9a53",
     "showTitle": false,
     "title": ""
    }
   },
   "outputs": [
    {
     "name": "stdout",
     "output_type": "stream",
     "text": [
      "Collecting azure-mgmt-datafactory\r\n",
      "  Downloading azure_mgmt_datafactory-6.1.0-py3-none-any.whl (525 kB)\r\n",
      "\u001b[?25l\r\u001b[K     |▋                               | 10 kB 14.7 MB/s eta 0:00:01\r\u001b[K     |█▎                              | 20 kB 4.0 MB/s eta 0:00:01\r\u001b[K     |█▉                              | 30 kB 5.7 MB/s eta 0:00:01\r\u001b[K     |██▌                             | 40 kB 4.5 MB/s eta 0:00:01\r\u001b[K     |███▏                            | 51 kB 4.4 MB/s eta 0:00:01\r\u001b[K     |███▊                            | 61 kB 5.1 MB/s eta 0:00:01\r\u001b[K     |████▍                           | 71 kB 5.1 MB/s eta 0:00:01\r\u001b[K     |█████                           | 81 kB 5.1 MB/s eta 0:00:01\r\u001b[K     |█████▋                          | 92 kB 5.6 MB/s eta 0:00:01\r\u001b[K     |██████▎                         | 102 kB 5.2 MB/s eta 0:00:01\r\u001b[K     |██████▉                         | 112 kB 5.2 MB/s eta 0:00:01\r\u001b[K     |███████▌                        | 122 kB 5.2 MB/s eta 0:00:01\r\u001b[K     |████████                        | 133 kB 5.2 MB/s eta 0:00:01\r\u001b[K     |████████▊                       | 143 kB 5.2 MB/s eta 0:00:01\r\u001b[K     |█████████▍                      | 153 kB 5.2 MB/s eta 0:00:01\r\u001b[K     |██████████                      | 163 kB 5.2 MB/s eta 0:00:01\r\u001b[K     |██████████▋                     | 174 kB 5.2 MB/s eta 0:00:01\r\u001b[K     |███████████▏                    | 184 kB 5.2 MB/s eta 0:00:01\r\u001b[K     |███████████▉                    | 194 kB 5.2 MB/s eta 0:00:01\r\u001b[K     |████████████▌                   | 204 kB 5.2 MB/s eta 0:00:01\r\u001b[K     |█████████████                   | 215 kB 5.2 MB/s eta 0:00:01\r\u001b[K     |█████████████▊                  | 225 kB 5.2 MB/s eta 0:00:01\r\u001b[K     |██████████████▎                 | 235 kB 5.2 MB/s eta 0:00:01\r\u001b[K     |███████████████                 | 245 kB 5.2 MB/s eta 0:00:01\r\u001b[K     |███████████████▋                | 256 kB 5.2 MB/s eta 0:00:01\r\u001b[K     |████████████████▏               | 266 kB 5.2 MB/s eta 0:00:01\r\u001b[K     |████████████████▉               | 276 kB 5.2 MB/s eta 0:00:01\r\u001b[K     |█████████████████▌              | 286 kB 5.2 MB/s eta 0:00:01\r\u001b[K     |██████████████████              | 296 kB 5.2 MB/s eta 0:00:01\r\u001b[K     |██████████████████▊             | 307 kB 5.2 MB/s eta 0:00:01\r\u001b[K     |███████████████████▎            | 317 kB 5.2 MB/s eta 0:00:01\r\u001b[K     |████████████████████            | 327 kB 5.2 MB/s eta 0:00:01\r\u001b[K     |████████████████████▋           | 337 kB 5.2 MB/s eta 0:00:01\r\u001b[K     |█████████████████████▏          | 348 kB 5.2 MB/s eta 0:00:01\r\u001b[K     |█████████████████████▉          | 358 kB 5.2 MB/s eta 0:00:01\r\u001b[K     |██████████████████████▍         | 368 kB 5.2 MB/s eta 0:00:01\r\u001b[K     |███████████████████████         | 378 kB 5.2 MB/s eta 0:00:01\r\u001b[K     |███████████████████████▊        | 389 kB 5.2 MB/s eta 0:00:01\r\u001b[K     |████████████████████████▎       | 399 kB 5.2 MB/s eta 0:00:01\r\u001b[K     |█████████████████████████       | 409 kB 5.2 MB/s eta 0:00:01\r\u001b[K     |█████████████████████████▌      | 419 kB 5.2 MB/s eta 0:00:01\r\u001b[K     |██████████████████████████▏     | 430 kB 5.2 MB/s eta 0:00:01\r\u001b[K     |██████████████████████████▉     | 440 kB 5.2 MB/s eta 0:00:01\r\u001b[K     |███████████████████████████▍    | 450 kB 5.2 MB/s eta 0:00:01\r\u001b[K     |████████████████████████████    | 460 kB 5.2 MB/s eta 0:00:01\r\u001b[K     |████████████████████████████▋   | 471 kB 5.2 MB/s eta 0:00:01\r\u001b[K     |█████████████████████████████▎  | 481 kB 5.2 MB/s eta 0:00:01\r\u001b[K     |██████████████████████████████  | 491 kB 5.2 MB/s eta 0:00:01\r\u001b[K     |██████████████████████████████▌ | 501 kB 5.2 MB/s eta 0:00:01\r\u001b[K     |███████████████████████████████▏| 512 kB 5.2 MB/s eta 0:00:01\r\u001b[K     |███████████████████████████████▉| 522 kB 5.2 MB/s eta 0:00:01\r\u001b[K     |████████████████████████████████| 525 kB 5.2 MB/s \r\n",
      "\u001b[?25hCollecting isodate>=0.6.1\r\n",
      "  Downloading isodate-0.6.1-py2.py3-none-any.whl (41 kB)\r\n",
      "\u001b[?25l\r\u001b[K     |███████▉                        | 10 kB 28.7 MB/s eta 0:00:01\r\u001b[K     |███████████████▊                | 20 kB 27.3 MB/s eta 0:00:01\r\u001b[K     |███████████████████████▋        | 30 kB 26.2 MB/s eta 0:00:01\r\u001b[K     |███████████████████████████████▍| 40 kB 13.4 MB/s eta 0:00:01\r\u001b[K     |████████████████████████████████| 41 kB 298 kB/s \r\n",
      "\u001b[?25hCollecting azure-common>=1.1\r\n",
      "  Downloading azure_common-1.1.28-py2.py3-none-any.whl (14 kB)\r\n",
      "Collecting azure-mgmt-core>=1.3.2\r\n",
      "  Downloading azure_mgmt_core-1.4.0-py3-none-any.whl (27 kB)\r\n",
      "Collecting azure-core<2.0.0,>=1.26.2\r\n",
      "  Downloading azure_core-1.30.1-py3-none-any.whl (193 kB)\r\n",
      "\u001b[?25l\r\u001b[K     |█▊                              | 10 kB 38.7 MB/s eta 0:00:01\r\u001b[K     |███▍                            | 20 kB 40.2 MB/s eta 0:00:01\r\u001b[K     |█████                           | 30 kB 46.0 MB/s eta 0:00:01\r\u001b[K     |██████▉                         | 40 kB 48.5 MB/s eta 0:00:01\r\u001b[K     |████████▌                       | 51 kB 51.5 MB/s eta 0:00:01\r\u001b[K     |██████████▏                     | 61 kB 52.3 MB/s eta 0:00:01\r\u001b[K     |███████████▉                    | 71 kB 52.9 MB/s eta 0:00:01\r\u001b[K     |█████████████▋                  | 81 kB 55.2 MB/s eta 0:00:01\r\u001b[K     |███████████████▎                | 92 kB 54.6 MB/s eta 0:00:01\r\u001b[K     |█████████████████               | 102 kB 55.8 MB/s eta 0:00:01\r\u001b[K     |██████████████████▋             | 112 kB 55.8 MB/s eta 0:00:01\r\u001b[K     |████████████████████▍           | 122 kB 55.8 MB/s eta 0:00:01\r\u001b[K     |██████████████████████          | 133 kB 55.8 MB/s eta 0:00:01\r\u001b[K     |███████████████████████▊        | 143 kB 55.8 MB/s eta 0:00:01\r\u001b[K     |█████████████████████████▍      | 153 kB 55.8 MB/s eta 0:00:01\r\u001b[K     |███████████████████████████▏    | 163 kB 55.8 MB/s eta 0:00:01\r\u001b[K     |████████████████████████████▉   | 174 kB 55.8 MB/s eta 0:00:01\r\u001b[K     |██████████████████████████████▌ | 184 kB 55.8 MB/s eta 0:00:01\r\u001b[K     |████████████████████████████████| 193 kB 55.8 MB/s \r\n",
      "\u001b[?25hRequirement already satisfied: six>=1.11.0 in /databricks/python3/lib/python3.9/site-packages (from azure-core<2.0.0,>=1.26.2->azure-mgmt-core>=1.3.2->azure-mgmt-datafactory) (1.16.0)\r\n",
      "Collecting typing-extensions>=4.6.0\r\n",
      "  Downloading typing_extensions-4.11.0-py3-none-any.whl (34 kB)\r\n",
      "Requirement already satisfied: requests>=2.21.0 in /databricks/python3/lib/python3.9/site-packages (from azure-core<2.0.0,>=1.26.2->azure-mgmt-core>=1.3.2->azure-mgmt-datafactory) (2.27.1)\r\n",
      "Requirement already satisfied: idna<4,>=2.5 in /databricks/python3/lib/python3.9/site-packages (from requests>=2.21.0->azure-core<2.0.0,>=1.26.2->azure-mgmt-core>=1.3.2->azure-mgmt-datafactory) (3.3)\r\n",
      "Requirement already satisfied: charset-normalizer~=2.0.0 in /databricks/python3/lib/python3.9/site-packages (from requests>=2.21.0->azure-core<2.0.0,>=1.26.2->azure-mgmt-core>=1.3.2->azure-mgmt-datafactory) (2.0.4)\r\n",
      "Requirement already satisfied: urllib3<1.27,>=1.21.1 in /databricks/python3/lib/python3.9/site-packages (from requests>=2.21.0->azure-core<2.0.0,>=1.26.2->azure-mgmt-core>=1.3.2->azure-mgmt-datafactory) (1.26.9)\r\n",
      "Requirement already satisfied: certifi>=2017.4.17 in /databricks/python3/lib/python3.9/site-packages (from requests>=2.21.0->azure-core<2.0.0,>=1.26.2->azure-mgmt-core>=1.3.2->azure-mgmt-datafactory) (2021.10.8)\r\n",
      "Installing collected packages: typing-extensions, azure-core, isodate, azure-mgmt-core, azure-common, azure-mgmt-datafactory\r\n",
      "  Attempting uninstall: typing-extensions\r\n",
      "    Found existing installation: typing-extensions 4.1.1\r\n",
      "    Not uninstalling typing-extensions at /databricks/python3/lib/python3.9/site-packages, outside environment /local_disk0/.ephemeral_nfs/envs/pythonEnv-fb53a453-5611-40b0-9fa0-58666a38ae6f\r\n",
      "    Can't uninstall 'typing-extensions'. No files were found to uninstall.\r\n",
      "Successfully installed azure-common-1.1.28 azure-core-1.30.1 azure-mgmt-core-1.4.0 azure-mgmt-datafactory-6.1.0 isodate-0.6.1 typing-extensions-4.11.0\r\n",
      "\u001b[33mWARNING: You are using pip version 21.2.4; however, version 24.0 is available.\r\n",
      "You should consider upgrading via the '/local_disk0/.ephemeral_nfs/envs/pythonEnv-fb53a453-5611-40b0-9fa0-58666a38ae6f/bin/python -m pip install --upgrade pip' command.\u001b[0m\r\n"
     ]
    }
   ],
   "source": [
    "!pip install azure-mgmt-datafactory"
   ]
  },
  {
   "cell_type": "code",
   "execution_count": null,
   "metadata": {
    "application/vnd.databricks.v1+cell": {
     "cellMetadata": {
      "byteLimit": 2048000,
      "rowLimit": 10000
     },
     "inputWidgets": {},
     "nuid": "a4b73582-922c-4c5f-bbf7-72703baba0f1",
     "showTitle": false,
     "title": ""
    }
   },
   "outputs": [
    {
     "name": "stdout",
     "output_type": "stream",
     "text": [
      "Collecting azure-identity\r\n",
      "  Downloading azure_identity-1.16.0-py3-none-any.whl (166 kB)\r\n",
      "\u001b[?25l\r\u001b[K     |██                              | 10 kB 26.6 MB/s eta 0:00:01\r\u001b[K     |████                            | 20 kB 8.3 MB/s eta 0:00:01\r\u001b[K     |██████                          | 30 kB 11.6 MB/s eta 0:00:01\r\u001b[K     |████████                        | 40 kB 7.5 MB/s eta 0:00:01\r\u001b[K     |█████████▉                      | 51 kB 7.1 MB/s eta 0:00:01\r\u001b[K     |███████████▉                    | 61 kB 8.3 MB/s eta 0:00:01\r\u001b[K     |█████████████▉                  | 71 kB 8.0 MB/s eta 0:00:01\r\u001b[K     |███████████████▉                | 81 kB 6.9 MB/s eta 0:00:01\r\u001b[K     |█████████████████▊              | 92 kB 7.6 MB/s eta 0:00:01\r\u001b[K     |███████████████████▊            | 102 kB 7.6 MB/s eta 0:00:01\r\u001b[K     |█████████████████████▊          | 112 kB 7.6 MB/s eta 0:00:01\r\u001b[K     |███████████████████████▊        | 122 kB 7.6 MB/s eta 0:00:01\r\u001b[K     |█████████████████████████▋      | 133 kB 7.6 MB/s eta 0:00:01\r\u001b[K     |███████████████████████████▋    | 143 kB 7.6 MB/s eta 0:00:01\r\u001b[K     |█████████████████████████████▋  | 153 kB 7.6 MB/s eta 0:00:01\r\u001b[K     |███████████████████████████████▋| 163 kB 7.6 MB/s eta 0:00:01\r\u001b[K     |████████████████████████████████| 166 kB 7.6 MB/s \r\n",
      "\u001b[?25hCollecting msal>=1.24.0\r\n",
      "  Downloading msal-1.28.0-py3-none-any.whl (102 kB)\r\n",
      "\u001b[?25l\r\u001b[K     |███▏                            | 10 kB 29.5 MB/s eta 0:00:01\r\u001b[K     |██████▍                         | 20 kB 35.1 MB/s eta 0:00:01\r\u001b[K     |█████████▋                      | 30 kB 42.3 MB/s eta 0:00:01\r\u001b[K     |████████████▉                   | 40 kB 43.3 MB/s eta 0:00:01\r\u001b[K     |████████████████                | 51 kB 45.6 MB/s eta 0:00:01\r\u001b[K     |███████████████████▎            | 61 kB 46.7 MB/s eta 0:00:01\r\u001b[K     |██████████████████████▌         | 71 kB 47.9 MB/s eta 0:00:01\r\u001b[K     |█████████████████████████▋      | 81 kB 50.7 MB/s eta 0:00:01\r\u001b[K     |████████████████████████████▉   | 92 kB 51.1 MB/s eta 0:00:01\r\u001b[K     |████████████████████████████████| 102 kB 14.3 MB/s \r\n",
      "\u001b[?25hRequirement already satisfied: cryptography>=2.5 in /databricks/python3/lib/python3.9/site-packages (from azure-identity) (3.4.8)\r\n",
      "Requirement already satisfied: azure-core>=1.23.0 in /local_disk0/.ephemeral_nfs/envs/pythonEnv-fb53a453-5611-40b0-9fa0-58666a38ae6f/lib/python3.9/site-packages (from azure-identity) (1.30.1)\r\n",
      "Collecting msal-extensions>=0.3.0\r\n",
      "  Downloading msal_extensions-1.1.0-py3-none-any.whl (19 kB)\r\n",
      "Requirement already satisfied: six>=1.11.0 in /databricks/python3/lib/python3.9/site-packages (from azure-core>=1.23.0->azure-identity) (1.16.0)\r\n",
      "Requirement already satisfied: typing-extensions>=4.6.0 in /local_disk0/.ephemeral_nfs/envs/pythonEnv-fb53a453-5611-40b0-9fa0-58666a38ae6f/lib/python3.9/site-packages (from azure-core>=1.23.0->azure-identity) (4.11.0)\r\n",
      "Requirement already satisfied: requests>=2.21.0 in /databricks/python3/lib/python3.9/site-packages (from azure-core>=1.23.0->azure-identity) (2.27.1)\r\n",
      "Requirement already satisfied: cffi>=1.12 in /databricks/python3/lib/python3.9/site-packages (from cryptography>=2.5->azure-identity) (1.15.0)\r\n",
      "Requirement already satisfied: pycparser in /databricks/python3/lib/python3.9/site-packages (from cffi>=1.12->cryptography>=2.5->azure-identity) (2.21)\r\n",
      "Collecting PyJWT[crypto]<3,>=1.0.0\r\n",
      "  Downloading PyJWT-2.8.0-py3-none-any.whl (22 kB)\r\n",
      "Collecting portalocker<3,>=1.0\r\n",
      "  Downloading portalocker-2.8.2-py3-none-any.whl (17 kB)\r\n",
      "Requirement already satisfied: packaging in /databricks/python3/lib/python3.9/site-packages (from msal-extensions>=0.3.0->azure-identity) (21.3)\r\n",
      "Requirement already satisfied: idna<4,>=2.5 in /databricks/python3/lib/python3.9/site-packages (from requests>=2.21.0->azure-core>=1.23.0->azure-identity) (3.3)\r\n",
      "Requirement already satisfied: charset-normalizer~=2.0.0 in /databricks/python3/lib/python3.9/site-packages (from requests>=2.21.0->azure-core>=1.23.0->azure-identity) (2.0.4)\r\n",
      "Requirement already satisfied: urllib3<1.27,>=1.21.1 in /databricks/python3/lib/python3.9/site-packages (from requests>=2.21.0->azure-core>=1.23.0->azure-identity) (1.26.9)\r\n",
      "Requirement already satisfied: certifi>=2017.4.17 in /databricks/python3/lib/python3.9/site-packages (from requests>=2.21.0->azure-core>=1.23.0->azure-identity) (2021.10.8)\r\n",
      "Requirement already satisfied: pyparsing!=3.0.5,>=2.0.2 in /databricks/python3/lib/python3.9/site-packages (from packaging->msal-extensions>=0.3.0->azure-identity) (3.0.4)\r\n",
      "Installing collected packages: PyJWT, portalocker, msal, msal-extensions, azure-identity\r\n",
      "Successfully installed PyJWT-2.8.0 azure-identity-1.16.0 msal-1.28.0 msal-extensions-1.1.0 portalocker-2.8.2\r\n",
      "\u001b[33mWARNING: You are using pip version 21.2.4; however, version 24.0 is available.\r\n",
      "You should consider upgrading via the '/local_disk0/.ephemeral_nfs/envs/pythonEnv-fb53a453-5611-40b0-9fa0-58666a38ae6f/bin/python -m pip install --upgrade pip' command.\u001b[0m\r\n"
     ]
    }
   ],
   "source": [
    "!pip install azure-identity"
   ]
  },
  {
   "cell_type": "code",
   "execution_count": null,
   "metadata": {
    "application/vnd.databricks.v1+cell": {
     "cellMetadata": {
      "byteLimit": 2048000,
      "rowLimit": 10000
     },
     "inputWidgets": {},
     "nuid": "b01d55c7-deb1-4de8-96b9-84a05e06c91a",
     "showTitle": false,
     "title": ""
    }
   },
   "outputs": [
    {
     "data": {
      "application/vnd.databricks.v1+bamboolib_hint": "{\"pd.DataFrames\": [], \"version\": \"0.0.1\"}",
      "text/plain": []
     },
     "metadata": {},
     "output_type": "display_data"
    }
   ],
   "source": [
    "from azure.identity import DefaultAzureCredential, ClientSecretCredential\n",
    "from azure.mgmt.datafactory import DataFactoryManagementClient\n",
    "import pandas as pd\n",
    "import json"
   ]
  },
  {
   "cell_type": "code",
   "execution_count": null,
   "metadata": {
    "application/vnd.databricks.v1+cell": {
     "cellMetadata": {
      "byteLimit": 2048000,
      "rowLimit": 10000
     },
     "inputWidgets": {},
     "nuid": "89d8816d-e0ca-4ded-9671-44111937755f",
     "showTitle": false,
     "title": ""
    }
   },
   "outputs": [],
   "source": [
    "# Configurar credenciais\n",
    "credentials = ClientSecretCredential(client_id='', client_secret='', tenant_id='') \n",
    "\n",
    "\n",
    "subscription_id = ''\n",
    "resource_group_name = ''\n",
    "data_factory_name = ''\n",
    "\n",
    "\n",
    "adf_client = DataFactoryManagementClient(credentials, subscription_id)\n",
    "pipelines = adf_client.pipelines.list_by_factory(resource_group_name, data_factory_name)\n"
   ]
  },
  {
   "cell_type": "code",
   "execution_count": null,
   "metadata": {
    "application/vnd.databricks.v1+cell": {
     "cellMetadata": {
      "byteLimit": 2048000,
      "rowLimit": 10000
     },
     "inputWidgets": {},
     "nuid": "5d2ff2e3-14f3-4eda-addc-16fbe9e5ec84",
     "showTitle": false,
     "title": ""
    }
   },
   "outputs": [],
   "source": [
    "pipe_id = 0\n",
    "dados = []\n",
    "dados_piplines = []\n",
    "dados_inputs = []\n",
    "dados_outputs = []\n",
    "\n",
    "for pipeline in pipelines:\n",
    "    pipe_id += 1\n",
    "    nome_pipeline = pipeline.name\n",
    "    descricao = pipeline.description\n",
    "\n",
    "    dados_dict = {\n",
    "        \"ID\": pipe_id,\n",
    "        \"NOME\": nome_pipeline,\n",
    "        \"DESCRICAO\": descricao}\n",
    "    dados_piplines.append(dados_dict)\n",
    "    \n",
    "\n",
    "    pipeline_dict = pipeline.serialize()\n",
    "\n",
    "    activities = pipeline_dict[\"properties\"][\"activities\"]\n",
    "    for activity in activities:\n",
    "        act_name = activity['name']\n",
    "        act_inputs = activity['inputs']\n",
    "        act_outputs = activity['outputs']\n",
    "\n",
    "        active_info_origem = {\n",
    "            \"ID\": pipe_id,\n",
    "            \"NOME\": act_name,\n",
    "            \"TIPO\" : act_inputs[0][\"type\"],\n",
    "            \"NOME_REFERENCIA\" : act_inputs[0][\"referenceName\"],\n",
    "            \"PARAMETROS\" : act_inputs[0][\"parameters\"]\n",
    "        }\n",
    "        active_info_coletor = {\n",
    "            \"ID\": pipe_id,\n",
    "            \"NOME\": act_name,\n",
    "            \"TIPO\" : act_outputs[0][\"type\"],\n",
    "            \"NOME_REFERENCIA\" : act_outputs[0][\"referenceName\"],\n",
    "            \"PARAMETROS\" : act_outputs[0][\"parameters\"]\n",
    "        }\n",
    "        \n",
    "        dados_inputs.append(active_info_origem)\n",
    "        dados_outputs.append(active_info_coletor)"
   ]
  },
  {
   "cell_type": "code",
   "execution_count": null,
   "metadata": {
    "application/vnd.databricks.v1+cell": {
     "cellMetadata": {
      "byteLimit": 2048000,
      "rowLimit": 10000
     },
     "inputWidgets": {},
     "nuid": "1178cc53-41a9-4381-af5f-d57a59d30c1b",
     "showTitle": false,
     "title": ""
    }
   },
   "outputs": [],
   "source": [
    "dados_inputs_json = json.dumps(dados_inputs)\n",
    "dados_outputs_json = json.dumps(dados_outputs)\n",
    "dados_piplines_json = json.dumps(dados_piplines)"
   ]
  },
  {
   "cell_type": "code",
   "execution_count": null,
   "metadata": {
    "application/vnd.databricks.v1+cell": {
     "cellMetadata": {
      "byteLimit": 2048000,
      "rowLimit": 10000
     },
     "inputWidgets": {},
     "nuid": "e52ec7db-501b-436d-bf6a-b4def6e321c9",
     "showTitle": false,
     "title": ""
    }
   },
   "outputs": [
    {
     "data": {
      "text/html": [
       "<style scoped>\n",
       "  .table-result-container {\n",
       "    max-height: 300px;\n",
       "    overflow: auto;\n",
       "  }\n",
       "  table, th, td {\n",
       "    border: 1px solid black;\n",
       "    border-collapse: collapse;\n",
       "  }\n",
       "  th, td {\n",
       "    padding: 5px;\n",
       "  }\n",
       "  th {\n",
       "    text-align: left;\n",
       "  }\n",
       "</style><div class='table-result-container'><table class='table-result'><thead style='background-color: white'><tr><th>ID</th><th>NOME</th><th>DESCRICAO</th></tr></thead><tbody><tr><td>1</td><td>PL_copy_csv_db_cadastros</td><td>Cópia do csv -datalake para o banco sql</td></tr><tr><td>2</td><td>PL_copy_csv_produtos_vendas</td><td>null</td></tr></tbody></table></div>"
      ]
     },
     "metadata": {
      "application/vnd.databricks.v1+output": {
       "addedWidgets": {},
       "aggData": [],
       "aggError": "",
       "aggOverflow": false,
       "aggSchema": [],
       "aggSeriesLimitReached": false,
       "aggType": "",
       "arguments": {},
       "columnCustomDisplayInfos": {},
       "data": [
        [
         1,
         "PL_copy_csv_db_cadastros",
         "Cópia do csv -datalake para o banco sql"
        ],
        [
         2,
         "PL_copy_csv_produtos_vendas",
         null
        ]
       ],
       "datasetInfos": [],
       "dbfsResultPath": null,
       "isJsonSchema": true,
       "metadata": {},
       "overflow": false,
       "plotOptions": {
        "customPlotOptions": {},
        "displayType": "table",
        "pivotAggregation": null,
        "pivotColumns": null,
        "xColumns": null,
        "yColumns": null
       },
       "removedWidgets": [],
       "schema": [
        {
         "metadata": "{}",
         "name": "ID",
         "type": "\"long\""
        },
        {
         "metadata": "{}",
         "name": "NOME",
         "type": "\"string\""
        },
        {
         "metadata": "{}",
         "name": "DESCRICAO",
         "type": "\"string\""
        }
       ],
       "type": "table"
      }
     },
     "output_type": "display_data"
    }
   ],
   "source": [
    "df = pd.read_json(dados_piplines_json)\n",
    "display(df)"
   ]
  },
  {
   "cell_type": "code",
   "execution_count": null,
   "metadata": {
    "application/vnd.databricks.v1+cell": {
     "cellMetadata": {
      "byteLimit": 2048000,
      "rowLimit": 10000
     },
     "inputWidgets": {},
     "nuid": "37dfbd03-d3d3-440b-989b-455f5b5db8cb",
     "showTitle": false,
     "title": ""
    }
   },
   "outputs": [
    {
     "name": "stderr",
     "output_type": "stream",
     "text": [
      "/databricks/spark/python/pyspark/sql/pandas/conversion.py:467: UserWarning: createDataFrame attempted Arrow optimization because 'spark.sql.execution.arrow.pyspark.enabled' is set to true; however, failed by the reason below:\n",
      "  A field of type StructType expects a pandas.DataFrame, but got: <class 'pandas.core.series.Series'>\n",
      "Attempting non-optimization as 'spark.sql.execution.arrow.pyspark.fallback.enabled' is set to true.\n",
      "  warn(msg)\n"
     ]
    },
    {
     "data": {
      "text/html": [
       "<style scoped>\n",
       "  .table-result-container {\n",
       "    max-height: 300px;\n",
       "    overflow: auto;\n",
       "  }\n",
       "  table, th, td {\n",
       "    border: 1px solid black;\n",
       "    border-collapse: collapse;\n",
       "  }\n",
       "  th, td {\n",
       "    padding: 5px;\n",
       "  }\n",
       "  th {\n",
       "    text-align: left;\n",
       "  }\n",
       "</style><div class='table-result-container'><table class='table-result'><thead style='background-color: white'><tr><th>ID</th><th>NOME</th><th>TIPO</th><th>NOME_REFERENCIA</th><th>PARAMETROS</th></tr></thead><tbody><tr><td>1</td><td>copia csv cliente</td><td>DatasetReference</td><td>DL_dinamico_virgula</td><td>Map(file_name -> CadastroClientes.csv)</td></tr><tr><td>1</td><td>copia csv - Lojas</td><td>DatasetReference</td><td>DL_dinamico_virgula</td><td>Map(file_name -> Contoso - Lojas.csv)</td></tr><tr><td>1</td><td>copia csv -funcionarios</td><td>DatasetReference</td><td>DL_dinamico_ponto_virgula</td><td>Map(file_name -> CadastroFuncionarios.csv)</td></tr><tr><td>2</td><td>copia csv produtos</td><td>DatasetReference</td><td>DL_dinamico_ponto_virgula</td><td>Map(file_name -> Contoso - Cadastro Produtos.csv)</td></tr><tr><td>2</td><td>inner vendas</td><td>DatasetReference</td><td>sql_dinamico</td><td>Map(table_name -> vendas, schema_name -> empresa)</td></tr></tbody></table></div>"
      ]
     },
     "metadata": {
      "application/vnd.databricks.v1+output": {
       "addedWidgets": {},
       "aggData": [],
       "aggError": "",
       "aggOverflow": false,
       "aggSchema": [],
       "aggSeriesLimitReached": false,
       "aggType": "",
       "arguments": {},
       "columnCustomDisplayInfos": {},
       "data": [
        [
         1,
         "copia csv cliente",
         "DatasetReference",
         "DL_dinamico_virgula",
         {
          "file_name": "CadastroClientes.csv"
         }
        ],
        [
         1,
         "copia csv - Lojas",
         "DatasetReference",
         "DL_dinamico_virgula",
         {
          "file_name": "Contoso - Lojas.csv"
         }
        ],
        [
         1,
         "copia csv -funcionarios",
         "DatasetReference",
         "DL_dinamico_ponto_virgula",
         {
          "file_name": "CadastroFuncionarios.csv"
         }
        ],
        [
         2,
         "copia csv produtos",
         "DatasetReference",
         "DL_dinamico_ponto_virgula",
         {
          "file_name": "Contoso - Cadastro Produtos.csv"
         }
        ],
        [
         2,
         "inner vendas",
         "DatasetReference",
         "sql_dinamico",
         {
          "schema_name": "empresa",
          "table_name": "vendas"
         }
        ]
       ],
       "datasetInfos": [],
       "dbfsResultPath": null,
       "isJsonSchema": true,
       "metadata": {},
       "overflow": false,
       "plotOptions": {
        "customPlotOptions": {},
        "displayType": "table",
        "pivotAggregation": null,
        "pivotColumns": null,
        "xColumns": null,
        "yColumns": null
       },
       "removedWidgets": [],
       "schema": [
        {
         "metadata": "{}",
         "name": "ID",
         "type": "\"long\""
        },
        {
         "metadata": "{}",
         "name": "NOME",
         "type": "\"string\""
        },
        {
         "metadata": "{}",
         "name": "TIPO",
         "type": "\"string\""
        },
        {
         "metadata": "{}",
         "name": "NOME_REFERENCIA",
         "type": "\"string\""
        },
        {
         "metadata": "{}",
         "name": "PARAMETROS",
         "type": "{\"type\":\"map\",\"keyType\":\"string\",\"valueType\":\"string\",\"valueContainsNull\":true}"
        }
       ],
       "type": "table"
      }
     },
     "output_type": "display_data"
    }
   ],
   "source": [
    "df_inp = pd.read_json(dados_inputs_json)\n",
    "display(df_inp) "
   ]
  },
  {
   "cell_type": "code",
   "execution_count": null,
   "metadata": {
    "application/vnd.databricks.v1+cell": {
     "cellMetadata": {
      "byteLimit": 2048000,
      "rowLimit": 10000
     },
     "inputWidgets": {},
     "nuid": "e366a837-809e-442e-a27f-1c687a7c00fb",
     "showTitle": false,
     "title": ""
    }
   },
   "outputs": [
    {
     "name": "stderr",
     "output_type": "stream",
     "text": [
      "/databricks/spark/python/pyspark/sql/pandas/conversion.py:467: UserWarning: createDataFrame attempted Arrow optimization because 'spark.sql.execution.arrow.pyspark.enabled' is set to true; however, failed by the reason below:\n",
      "  A field of type StructType expects a pandas.DataFrame, but got: <class 'pandas.core.series.Series'>\n",
      "Attempting non-optimization as 'spark.sql.execution.arrow.pyspark.fallback.enabled' is set to true.\n",
      "  warn(msg)\n"
     ]
    },
    {
     "data": {
      "text/html": [
       "<style scoped>\n",
       "  .table-result-container {\n",
       "    max-height: 300px;\n",
       "    overflow: auto;\n",
       "  }\n",
       "  table, th, td {\n",
       "    border: 1px solid black;\n",
       "    border-collapse: collapse;\n",
       "  }\n",
       "  th, td {\n",
       "    padding: 5px;\n",
       "  }\n",
       "  th {\n",
       "    text-align: left;\n",
       "  }\n",
       "</style><div class='table-result-container'><table class='table-result'><thead style='background-color: white'><tr><th>ID</th><th>NOME</th><th>TIPO</th><th>NOME_REFERENCIA</th><th>PARAMETROS</th></tr></thead><tbody><tr><td>1</td><td>copia csv cliente</td><td>DatasetReference</td><td>sql_dinamico</td><td>Map(table_name -> clientes, schema_name -> empresa)</td></tr><tr><td>1</td><td>copia csv - Lojas</td><td>DatasetReference</td><td>sql_dinamico</td><td>Map(table_name -> lojas, schema_name -> empresa)</td></tr><tr><td>1</td><td>copia csv -funcionarios</td><td>DatasetReference</td><td>sql_dinamico</td><td>Map(table_name -> funcionarios, schema_name -> empresa)</td></tr><tr><td>2</td><td>copia csv produtos</td><td>DatasetReference</td><td>sql_dinamico</td><td>Map(table_name -> produtos, schema_name -> empresa)</td></tr><tr><td>2</td><td>inner vendas</td><td>DatasetReference</td><td>sql_dinamico</td><td>Map(table_name -> juncao_vendas, schema_name -> empresa)</td></tr></tbody></table></div>"
      ]
     },
     "metadata": {
      "application/vnd.databricks.v1+output": {
       "addedWidgets": {},
       "aggData": [],
       "aggError": "",
       "aggOverflow": false,
       "aggSchema": [],
       "aggSeriesLimitReached": false,
       "aggType": "",
       "arguments": {},
       "columnCustomDisplayInfos": {},
       "data": [
        [
         1,
         "copia csv cliente",
         "DatasetReference",
         "sql_dinamico",
         {
          "schema_name": "empresa",
          "table_name": "clientes"
         }
        ],
        [
         1,
         "copia csv - Lojas",
         "DatasetReference",
         "sql_dinamico",
         {
          "schema_name": "empresa",
          "table_name": "lojas"
         }
        ],
        [
         1,
         "copia csv -funcionarios",
         "DatasetReference",
         "sql_dinamico",
         {
          "schema_name": "empresa",
          "table_name": "funcionarios"
         }
        ],
        [
         2,
         "copia csv produtos",
         "DatasetReference",
         "sql_dinamico",
         {
          "schema_name": "empresa",
          "table_name": "produtos"
         }
        ],
        [
         2,
         "inner vendas",
         "DatasetReference",
         "sql_dinamico",
         {
          "schema_name": "empresa",
          "table_name": "juncao_vendas"
         }
        ]
       ],
       "datasetInfos": [],
       "dbfsResultPath": null,
       "isJsonSchema": true,
       "metadata": {},
       "overflow": false,
       "plotOptions": {
        "customPlotOptions": {},
        "displayType": "table",
        "pivotAggregation": null,
        "pivotColumns": null,
        "xColumns": null,
        "yColumns": null
       },
       "removedWidgets": [],
       "schema": [
        {
         "metadata": "{}",
         "name": "ID",
         "type": "\"long\""
        },
        {
         "metadata": "{}",
         "name": "NOME",
         "type": "\"string\""
        },
        {
         "metadata": "{}",
         "name": "TIPO",
         "type": "\"string\""
        },
        {
         "metadata": "{}",
         "name": "NOME_REFERENCIA",
         "type": "\"string\""
        },
        {
         "metadata": "{}",
         "name": "PARAMETROS",
         "type": "{\"type\":\"map\",\"keyType\":\"string\",\"valueType\":\"string\",\"valueContainsNull\":true}"
        }
       ],
       "type": "table"
      }
     },
     "output_type": "display_data"
    }
   ],
   "source": [
    "df_out = pd.read_json(dados_outputs_json)\n",
    "display(df_out)"
   ]
  },
  {
   "cell_type": "code",
   "execution_count": null,
   "metadata": {
    "application/vnd.databricks.v1+cell": {
     "cellMetadata": {},
     "inputWidgets": {},
     "nuid": "dd5a7b83-9124-44a9-9585-211f55178f3c",
     "showTitle": false,
     "title": ""
    }
   },
   "outputs": [],
   "source": []
  }
 ],
 "metadata": {
  "application/vnd.databricks.v1+notebook": {
   "dashboards": [],
   "language": "python",
   "notebookMetadata": {
    "pythonIndentUnit": 4
   },
   "notebookName": "Untitled Notebook 2024-04-20 11:34:54",
   "widgets": {}
  },
  "language_info": {
   "name": "python"
  }
 },
 "nbformat": 4,
 "nbformat_minor": 0
}
